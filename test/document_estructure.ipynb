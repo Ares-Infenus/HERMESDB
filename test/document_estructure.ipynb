{
 "cells": [
  {
   "cell_type": "markdown",
   "metadata": {},
   "source": [
    "### Importación de Archivos SQL\n",
    "\n",
    "En esta sección, se importa y organiza la información contenida en archivos SQL, separándolos por carpetas o claves para su uso posterior. El objetivo es asegurar que la estructura de los datos sea consistente y adecuada para su procesamiento posterior.\n",
    "\n",
    "El proceso incluye las siguientes verificaciones:\n",
    "\n",
    "- **Validación de archivos**: Se revisa si todos los archivos necesarios están presentes, asegurando que no falten archivos importantes.\n",
    "- **Detección de duplicados**: Se comprueba si existen registros duplicados en los datos importados.\n",
    "- **Verificación de la consistencia de las dimensiones**: Se asegura que todos los archivos tengan el mismo número de filas y columnas, para evitar errores de incompatibilidad.\n",
    "- **Estructura de los datos**: Se valida que cada DataFrame importado tenga la siguiente estructura:\n",
    "  - **Data time**\n",
    "  - **Close**\n",
    "  - **Open**\n",
    "  - **High**\n",
    "  - **Low**\n",
    "  - **Volume**\n",
    "\n",
    "El objetivo es garantizar que todos los datos estén bien organizados, sin errores de duplicidad ni inconsistencias, para su posterior análisis y procesamiento en el sistema.\n"
   ]
  },
  {
   "cell_type": "code",
   "execution_count": null,
   "metadata": {},
   "outputs": [
    {
     "name": "stderr",
     "output_type": "stream",
     "text": [
      "Comparing DataFrames: 100%|██████████| 12/12 [00:13<00:00,  1.15s/it]\n"
     ]
    }
   ],
   "source": [
    "from modules.import_modules.import_m import cargar_dataframes, agregar_extension_csv #Dataframe de importacion, identificador de dataframes.\n",
    "from modules.import_modules.security_import import verificar_diccionario,DuplicateChecker #Verificacion de los datos importados\n",
    "\n",
    "\n",
    "#importando en un diccionario:\n",
    "carpeta_base = 'C:\\\\Users\\\\spinz\\\\Documents\\\\Portafolio Oficial\\\\HERMESDB\\\\data\\\\raw' # Directorio de los datos sin procesar\n",
    "diccionario_datos = cargar_dataframes(carpeta_base) #Diccionario con los dataframes de importacion\n",
    "diccionario_datos = agregar_extension_csv(diccionario_datos) #Agregando la extension csv a los dataframes importados\n",
    "\n",
    "#Verificacion de los datos importados\n",
    "verificacion_1 = verificar_diccionario(diccionario_datos) # Verifica la estructura y validez de los archivos CSV en un diccionario de datos.\n",
    "\n",
    "import nest_asyncio #Libreria necesaria para que funcione el asyncio en jupyter\n",
    "nest_asyncio.apply() # Aplicando la libreria nest_asyncio\n",
    "if __name__ == '__main__':\n",
    "    # Crear un diccionario con DataFrames de ejemplo\n",
    "    # Instanciar la clase y ejecutar la detección de duplicados\n",
    "    verificacion_2 = DuplicateChecker(diccionario_datos)\n",
    "    verificacion_2.run()\n",
    "\n"
   ]
  },
  {
   "cell_type": "code",
   "execution_count": null,
   "metadata": {},
   "outputs": [],
   "source": []
  }
 ],
 "metadata": {
  "kernelspec": {
   "display_name": "base",
   "language": "python",
   "name": "python3"
  },
  "language_info": {
   "codemirror_mode": {
    "name": "ipython",
    "version": 3
   },
   "file_extension": ".py",
   "mimetype": "text/x-python",
   "name": "python",
   "nbconvert_exporter": "python",
   "pygments_lexer": "ipython3",
   "version": "3.12.7"
  }
 },
 "nbformat": 4,
 "nbformat_minor": 2
}
