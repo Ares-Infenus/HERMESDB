{
 "cells": [
  {
   "cell_type": "markdown",
   "metadata": {},
   "source": [
    "cCreacion de las tablas estaticas que no necesitan esr actualiazndo constantemente"
   ]
  },
  {
   "cell_type": "code",
   "execution_count": 1,
   "metadata": {},
   "outputs": [
    {
     "name": "stdout",
     "output_type": "stream",
     "text": [
      "Archivo exportado a: C:\\Users\\spinz\\Documents\\Portafolio Oficial\\HERMESDB\\data\\tables_data\\MARKET.csv\n",
      "Archivo creado con éxito en: C:\\Users\\spinz\\Documents\\Portafolio Oficial\\HERMESDB\\data\\tables_data\\data_table\\ASSETS.csv\n",
      "Archivo procesado y guardado en: C:\\Users\\spinz\\Documents\\Portafolio Oficial\\HERMESDB\\data\\tables_data\\ASSETS.csv\n",
      "Archivo procesado y guardado en: C:\\Users\\spinz\\Documents\\Portafolio Oficial\\HERMESDB\\data\\tables_data\\TIMEFRAME.csv\n"
     ]
    }
   ],
   "source": [
    "from modules.Creation_tables.Market import MarketData # Importar la clase MarketData\n",
    "from modules.Creation_tables.Market_metadata import MarketMetadataManager # Importar la clase MarketMetadataManager\n",
    "from modules.Extraction_info.Extraction_info_Assets import MT5AssetExtractor # Importar la clase MT5AssetExtractor\n",
    "from modules.Creation_tables.Assets import AssetProcessor # Importar la clase AssetProcessor\n",
    "from modules.Creation_tables.Timeframe import TimeFrameProcessor # Importar la clase TimeFrameProcessor\n",
    "from modules.Extraction_info.Extracion_data_Assets import MetaTraderDataExtractor # Importar la clase MetaTraderDataExtractor\n",
    "#Primero formamos la tabla Market_data\n",
    "# Aquí se define la carpeta donde se guardará el archivo CSV\n",
    "output_folder = \"C:\\\\Users\\\\spinz\\\\Documents\\\\Portafolio Oficial\\\\HERMESDB\\\\data\\\\tables_data\"  \n",
    "# Crear una instancia de la clase MarketData\n",
    "market_data_instance = MarketData(output_folder)\n",
    "# Exportar el DataFrame a un archivo CSV\n",
    "market_data_instance.export_to_csv()\n",
    "\n",
    "#Exportando la tabla Market_metadata\n",
    "# Create an instance of the manager\n",
    "manager = MarketMetadataManager()\n",
    "# Export to different formats\n",
    "manager.export_metadata('C:\\\\Users\\\\spinz\\\\Documents\\\\Portafolio Oficial\\\\HERMESDB\\\\data\\\\tables_data\\\\MARKET_METADATA.csv', 'csv')\n",
    "\n",
    "#Creacion de la tabla Assets\n",
    "#Extraccion de datos para la creacion de la tabla Assets\n",
    "output_path = \"C:\\\\Users\\\\spinz\\\\Documents\\\\Portafolio Oficial\\\\HERMESDB\\\\data\\\\tables_data\\\\data_table\\\\ASSETS.csv\"\n",
    "extractor = MT5AssetExtractor(output_path)\n",
    "extractor.extract_assets()\n",
    "# Rutas de entrada y salida\n",
    "input_csv_path = \"C:\\\\Users\\\\spinz\\\\Documents\\\\Portafolio Oficial\\\\HERMESDB\\\\data\\\\tables_data\\\\data_table\\\\ASSETS.csv\"\n",
    "output_csv_path = \"C:\\\\Users\\\\spinz\\\\Documents\\\\Portafolio Oficial\\\\HERMESDB\\\\data\\\\tables_data\\\\ASSETS.csv\"\n",
    "\n",
    "# Crear una instancia de la clase y procesar los datos\n",
    "processor = AssetProcessor(input_csv_path, output_csv_path)\n",
    "processor.process_assets()\n",
    "\n",
    "#Creacion de la tabla TIMEFRAME\n",
    "\n",
    "# Ruta de salida\n",
    "output_csv_path = \"C:\\\\Users\\\\spinz\\\\Documents\\\\Portafolio Oficial\\\\HERMESDB\\\\data\\\\tables_data\\\\TIMEFRAME.csv\"\n",
    "\n",
    "# Crear una instancia de la clase y guardar el DataFrame\n",
    "processor = TimeFrameProcessor(output_csv_path)\n",
    "processor.save_to_csv()\n",
    "\n",
    "#Creacion de la tabla Market_data\n",
    "extractor = MetaTraderDataExtractor(login=3000074280, password='#%@Q$20vk5o', server='demoUK-mt5.darwinex.com', assets_csv_path='C:\\\\Users\\\\spinz\\\\Documents\\\\Portafolio Oficial\\\\HERMESDB\\\\data\\\\tables_data\\\\data_table\\\\ASSETS.csv', output_folder='C:\\\\Users\\\\spinz\\\\Documents\\\\Portafolio Oficial\\\\HERMESDB\\\\data\\\\tables_data\\\\data_table\\\\data_market')\n",
    "extractor.download_all_data()\n",
    "\n",
    "#Unificacion de los dato y creaciond definitiva del la tabla Market"
   ]
  },
  {
   "cell_type": "code",
   "execution_count": 3,
   "metadata": {},
   "outputs": [
    {
     "name": "stdout",
     "output_type": "stream",
     "text": [
      "                       col_1  col_2  col_3  col_4  col_5  col_6  col_7  col_8  \\\n",
      "0  2010-01-11 16:00:00+00:00  22.16  22.20  22.00  22.02    188      0      0   \n",
      "1  2010-01-11 17:00:00+00:00  22.00  22.17  21.95  22.17    186      0      0   \n",
      "2  2010-01-11 18:00:00+00:00  22.17  22.17  22.07  22.09    181      0      0   \n",
      "3  2010-01-11 19:00:00+00:00  22.10  22.10  21.98  21.99    156      0      0   \n",
      "4  2010-01-11 20:00:00+00:00  21.99  22.00  21.93  21.94    127      0      0   \n",
      "\n",
      "  col_9 col_10  \n",
      "0    1H      A  \n",
      "1    1H      A  \n",
      "2    1H      A  \n",
      "3    1H      A  \n",
      "4    1H      A  \n",
      "Index(['col_1', 'col_2', 'col_3', 'col_4', 'col_5', 'col_6', 'col_7', 'col_8',\n",
      "       'col_9', 'col_10'],\n",
      "      dtype='object')\n",
      "              col_2         col_3         col_4         col_5         col_6  \\\n",
      "count  2.361627e+07  2.361627e+07  2.361627e+07  2.361627e+07  2.361627e+07   \n",
      "mean   1.791889e+02  1.797683e+02  1.786242e+02  1.792161e+02  9.708620e+05   \n",
      "std    1.024285e+03  1.026186e+03  1.022327e+03  1.024338e+03  1.353819e+08   \n",
      "min    2.000000e-02  2.000000e-02  0.000000e+00  2.000000e-02  0.000000e+00   \n",
      "25%    3.182000e+01  3.205000e+01  3.159000e+01  3.183000e+01  4.640000e+02   \n",
      "50%    6.339000e+01  6.368000e+01  6.311000e+01  6.340000e+01  3.411000e+03   \n",
      "75%    1.753490e+02  1.754230e+02  1.752640e+02  1.753510e+02  6.446850e+05   \n",
      "max    2.052360e+04  2.054860e+04  2.049290e+04  2.052360e+04  4.136659e+11   \n",
      "\n",
      "              col_7         col_8  \n",
      "count  2.361627e+07  2.361627e+07  \n",
      "mean   3.795706e+01  8.946542e+10  \n",
      "std    5.693870e+02  4.592264e+14  \n",
      "min    0.000000e+00  0.000000e+00  \n",
      "25%    0.000000e+00  0.000000e+00  \n",
      "50%    0.000000e+00  0.000000e+00  \n",
      "75%    1.270000e+02  0.000000e+00  \n",
      "max    4.760490e+05  1.150250e+18  \n"
     ]
    },
    {
     "name": "stdout",
     "output_type": "stream",
     "text": [
      "                       col_1  col_2  col_3  col_4  col_5  col_6  col_7  col_8  \\\n",
      "0  2010-01-11 16:00:00+00:00  22.16  22.20  22.00  22.02    188      0      0   \n",
      "1  2010-01-11 17:00:00+00:00  22.00  22.17  21.95  22.17    186      0      0   \n",
      "2  2010-01-11 18:00:00+00:00  22.17  22.17  22.07  22.09    181      0      0   \n",
      "3  2010-01-11 19:00:00+00:00  22.10  22.10  21.98  21.99    156      0      0   \n",
      "4  2010-01-11 20:00:00+00:00  21.99  22.00  21.93  21.94    127      0      0   \n",
      "\n",
      "  col_9 col_10  \n",
      "0    1H      A  \n",
      "1    1H      A  \n",
      "2    1H      A  \n",
      "3    1H      A  \n",
      "4    1H      A  \n",
      "Index(['col_1', 'col_2', 'col_3', 'col_4', 'col_5', 'col_6', 'col_7', 'col_8',\n",
      "       'col_9', 'col_10'],\n",
      "      dtype='object')\n",
      "              col_2         col_3         col_4         col_5         col_6  \\\n",
      "count  2.361627e+07  2.361627e+07  2.361627e+07  2.361627e+07  2.361627e+07   \n",
      "mean   1.791889e+02  1.797683e+02  1.786242e+02  1.792160e+02  9.708620e+05   \n",
      "std    1.024285e+03  1.026186e+03  1.022327e+03  1.024338e+03  1.353819e+08   \n",
      "min    2.000000e-02  2.000000e-02  0.000000e+00  2.000000e-02  0.000000e+00   \n",
      "25%    3.182000e+01  3.205000e+01  3.159000e+01  3.183000e+01  4.640000e+02   \n",
      "50%    6.339000e+01  6.368000e+01  6.311000e+01  6.340000e+01  3.411000e+03   \n",
      "75%    1.753490e+02  1.754230e+02  1.752640e+02  1.753510e+02  6.446850e+05   \n",
      "max    2.052360e+04  2.054860e+04  2.049290e+04  2.052360e+04  4.136659e+11   \n",
      "\n",
      "              col_7         col_8  \n",
      "count  2.361627e+07  2.361627e+07  \n",
      "mean   3.795705e+01  8.946541e+10  \n",
      "std    5.693870e+02  4.592264e+14  \n",
      "min    0.000000e+00  0.000000e+00  \n",
      "25%    0.000000e+00  0.000000e+00  \n",
      "50%    0.000000e+00  0.000000e+00  \n",
      "75%    1.270000e+02  0.000000e+00  \n",
      "max    4.760490e+05  1.150250e+18  \n"
     ]
    }
   ],
   "source": [
    "import dask.dataframe as dd\n",
    "\n",
    "file_path = \"C:\\\\Users\\\\spinz\\\\Documents\\\\Portafolio Oficial\\\\HERMESDB\\\\data\\\\tables_data\\\\MARKET_DATA.csv\"\n",
    "\n",
    "# Cargar archivo como un dataframe de Dask\n",
    "df = dd.read_csv(file_path)\n",
    "\n",
    "# Previsualizar las primeras filas\n",
    "print(df.head())\n",
    "\n",
    "# Inspeccionar las columnas\n",
    "print(df.columns)\n",
    "\n",
    "# Obtener estadísticas rápidas\n",
    "print(df.describe().compute())\n"
   ]
  },
  {
   "cell_type": "code",
   "execution_count": null,
   "metadata": {},
   "outputs": [],
   "source": [
    "HXL,IBKR,pwr,qtwo,RCL,V,vz,wmt,xom "
   ]
  },
  {
   "cell_type": "markdown",
   "metadata": {},
   "source": [
    "Creado las tablas que son actualizadas cada noche"
   ]
  }
 ],
 "metadata": {
  "kernelspec": {
   "display_name": "base",
   "language": "python",
   "name": "python3"
  },
  "language_info": {
   "codemirror_mode": {
    "name": "ipython",
    "version": 3
   },
   "file_extension": ".py",
   "mimetype": "text/x-python",
   "name": "python",
   "nbconvert_exporter": "python",
   "pygments_lexer": "ipython3",
   "version": "3.12.7"
  }
 },
 "nbformat": 4,
 "nbformat_minor": 2
}
