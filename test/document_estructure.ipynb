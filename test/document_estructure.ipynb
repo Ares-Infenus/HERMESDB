{
 "cells": [
  {
   "cell_type": "markdown",
   "metadata": {},
   "source": [
    "cCreacion de las tablas estaticas que no necesitan esr actualiazndo constantemente"
   ]
  },
  {
   "cell_type": "code",
   "execution_count": null,
   "metadata": {},
   "outputs": [
    {
     "name": "stdout",
     "output_type": "stream",
     "text": [
      "MetaTrader 5 initialized successfully.\n"
     ]
    },
    {
     "ename": "FileNotFoundError",
     "evalue": "[Errno 2] No such file or directory: 'C:\\\\Users\\\\spinz\\\\Documents\\\\Portafolio Oficial\\\\HERMESDB\\\\data\\\\tables_data\\\\data_table\\\\ASSETS_PART_2.csv'",
     "output_type": "error",
     "traceback": [
      "\u001b[1;31m---------------------------------------------------------------------------\u001b[0m",
      "\u001b[1;31mFileNotFoundError\u001b[0m                         Traceback (most recent call last)",
      "Cell \u001b[1;32mIn[1], line 6\u001b[0m\n\u001b[0;32m      4\u001b[0m \u001b[38;5;28;01mfrom\u001b[39;00m \u001b[38;5;21;01mmodules\u001b[39;00m\u001b[38;5;21;01m.\u001b[39;00m\u001b[38;5;21;01mCreation_tables\u001b[39;00m\u001b[38;5;21;01m.\u001b[39;00m\u001b[38;5;21;01mAssets\u001b[39;00m \u001b[38;5;28;01mimport\u001b[39;00m AssetProcessor \u001b[38;5;66;03m# Importar la clase AssetProcessor\u001b[39;00m\n\u001b[0;32m      5\u001b[0m \u001b[38;5;28;01mfrom\u001b[39;00m \u001b[38;5;21;01mmodules\u001b[39;00m\u001b[38;5;21;01m.\u001b[39;00m\u001b[38;5;21;01mCreation_tables\u001b[39;00m\u001b[38;5;21;01m.\u001b[39;00m\u001b[38;5;21;01mTimeframe\u001b[39;00m \u001b[38;5;28;01mimport\u001b[39;00m TimeFrameProcessor \u001b[38;5;66;03m# Importar la clase TimeFrameProcessor\u001b[39;00m\n\u001b[1;32m----> 6\u001b[0m \u001b[38;5;28;01mfrom\u001b[39;00m \u001b[38;5;21;01mmodules\u001b[39;00m\u001b[38;5;21;01m.\u001b[39;00m\u001b[38;5;21;01mExtraction_info\u001b[39;00m\u001b[38;5;21;01m.\u001b[39;00m\u001b[38;5;21;01mExtracion_data_Assets\u001b[39;00m \u001b[38;5;28;01mimport\u001b[39;00m MetaTraderDataExtractor \u001b[38;5;66;03m# Importar la clase MetaTraderDataExtractor\u001b[39;00m\n\u001b[0;32m      7\u001b[0m \u001b[38;5;66;03m#Primero formamos la tabla Market_data\u001b[39;00m\n\u001b[0;32m      8\u001b[0m \u001b[38;5;66;03m# Aquí se define la carpeta donde se guardará el archivo CSV\u001b[39;00m\n\u001b[0;32m      9\u001b[0m output_folder \u001b[38;5;241m=\u001b[39m \u001b[38;5;124m\"\u001b[39m\u001b[38;5;124mC:\u001b[39m\u001b[38;5;130;01m\\\\\u001b[39;00m\u001b[38;5;124mUsers\u001b[39m\u001b[38;5;130;01m\\\\\u001b[39;00m\u001b[38;5;124mspinz\u001b[39m\u001b[38;5;130;01m\\\\\u001b[39;00m\u001b[38;5;124mDocuments\u001b[39m\u001b[38;5;130;01m\\\\\u001b[39;00m\u001b[38;5;124mPortafolio Oficial\u001b[39m\u001b[38;5;130;01m\\\\\u001b[39;00m\u001b[38;5;124mHERMESDB\u001b[39m\u001b[38;5;130;01m\\\\\u001b[39;00m\u001b[38;5;124mdata\u001b[39m\u001b[38;5;130;01m\\\\\u001b[39;00m\u001b[38;5;124mtables_data\u001b[39m\u001b[38;5;124m\"\u001b[39m  \n",
      "File \u001b[1;32mc:\\Users\\spinz\\Documents\\Portafolio Oficial\\HERMESDB\\test\\modules\\Extraction_info\\Extracion_data_Assets.py:79\u001b[0m\n\u001b[0;32m     76\u001b[0m         mt5\u001b[38;5;241m.\u001b[39mshutdown()\n\u001b[0;32m     78\u001b[0m \u001b[38;5;66;03m# Example usage:\u001b[39;00m\n\u001b[1;32m---> 79\u001b[0m extractor \u001b[38;5;241m=\u001b[39m MetaTraderDataExtractor(login\u001b[38;5;241m=\u001b[39m\u001b[38;5;241m3000074280\u001b[39m, password\u001b[38;5;241m=\u001b[39m\u001b[38;5;124m'\u001b[39m\u001b[38;5;124m#\u001b[39m\u001b[38;5;124m%\u001b[39m\u001b[38;5;124m@Q$20vk5o\u001b[39m\u001b[38;5;124m'\u001b[39m, server\u001b[38;5;241m=\u001b[39m\u001b[38;5;124m'\u001b[39m\u001b[38;5;124mdemoUK-mt5.darwinex.com\u001b[39m\u001b[38;5;124m'\u001b[39m, assets_csv_path\u001b[38;5;241m=\u001b[39m\u001b[38;5;124m'\u001b[39m\u001b[38;5;124mC:\u001b[39m\u001b[38;5;130;01m\\\\\u001b[39;00m\u001b[38;5;124mUsers\u001b[39m\u001b[38;5;130;01m\\\\\u001b[39;00m\u001b[38;5;124mspinz\u001b[39m\u001b[38;5;130;01m\\\\\u001b[39;00m\u001b[38;5;124mDocuments\u001b[39m\u001b[38;5;130;01m\\\\\u001b[39;00m\u001b[38;5;124mPortafolio Oficial\u001b[39m\u001b[38;5;130;01m\\\\\u001b[39;00m\u001b[38;5;124mHERMESDB\u001b[39m\u001b[38;5;130;01m\\\\\u001b[39;00m\u001b[38;5;124mdata\u001b[39m\u001b[38;5;130;01m\\\\\u001b[39;00m\u001b[38;5;124mtables_data\u001b[39m\u001b[38;5;130;01m\\\\\u001b[39;00m\u001b[38;5;124mdata_table\u001b[39m\u001b[38;5;130;01m\\\\\u001b[39;00m\u001b[38;5;124mASSETS_PART_2.csv\u001b[39m\u001b[38;5;124m'\u001b[39m, output_folder\u001b[38;5;241m=\u001b[39m\u001b[38;5;124m'\u001b[39m\u001b[38;5;124mC:\u001b[39m\u001b[38;5;130;01m\\\\\u001b[39;00m\u001b[38;5;124mUsers\u001b[39m\u001b[38;5;130;01m\\\\\u001b[39;00m\u001b[38;5;124mspinz\u001b[39m\u001b[38;5;130;01m\\\\\u001b[39;00m\u001b[38;5;124mDocuments\u001b[39m\u001b[38;5;130;01m\\\\\u001b[39;00m\u001b[38;5;124mPortafolio Oficial\u001b[39m\u001b[38;5;130;01m\\\\\u001b[39;00m\u001b[38;5;124mHERMESDB\u001b[39m\u001b[38;5;130;01m\\\\\u001b[39;00m\u001b[38;5;124mdata\u001b[39m\u001b[38;5;130;01m\\\\\u001b[39;00m\u001b[38;5;124mtables_data\u001b[39m\u001b[38;5;130;01m\\\\\u001b[39;00m\u001b[38;5;124mdata_table\u001b[39m\u001b[38;5;130;01m\\\\\u001b[39;00m\u001b[38;5;124mdata_market\u001b[39m\u001b[38;5;124m'\u001b[39m)\n\u001b[0;32m     80\u001b[0m extractor\u001b[38;5;241m.\u001b[39mdownload_all_data()\n",
      "File \u001b[1;32mc:\\Users\\spinz\\Documents\\Portafolio Oficial\\HERMESDB\\test\\modules\\Extraction_info\\Extracion_data_Assets.py:24\u001b[0m, in \u001b[0;36mMetaTraderDataExtractor.__init__\u001b[1;34m(self, login, password, server, assets_csv_path, output_folder)\u001b[0m\n\u001b[0;32m     16\u001b[0m \u001b[38;5;28mself\u001b[39m\u001b[38;5;241m.\u001b[39mtimeframes \u001b[38;5;241m=\u001b[39m {\n\u001b[0;32m     17\u001b[0m     \u001b[38;5;124m'\u001b[39m\u001b[38;5;124m1H\u001b[39m\u001b[38;5;124m'\u001b[39m: mt5\u001b[38;5;241m.\u001b[39mTIMEFRAME_H1,\n\u001b[0;32m     18\u001b[0m     \u001b[38;5;124m'\u001b[39m\u001b[38;5;124m4H\u001b[39m\u001b[38;5;124m'\u001b[39m: mt5\u001b[38;5;241m.\u001b[39mTIMEFRAME_H1,\n\u001b[1;32m   (...)\u001b[0m\n\u001b[0;32m     21\u001b[0m     \u001b[38;5;124m'\u001b[39m\u001b[38;5;124m1M\u001b[39m\u001b[38;5;124m'\u001b[39m: mt5\u001b[38;5;241m.\u001b[39mTIMEFRAME_MN1\n\u001b[0;32m     22\u001b[0m }\n\u001b[0;32m     23\u001b[0m \u001b[38;5;28mself\u001b[39m\u001b[38;5;241m.\u001b[39minitialize_mt5()\n\u001b[1;32m---> 24\u001b[0m \u001b[38;5;28mself\u001b[39m\u001b[38;5;241m.\u001b[39mload_assets()\n",
      "File \u001b[1;32mc:\\Users\\spinz\\Documents\\Portafolio Oficial\\HERMESDB\\test\\modules\\Extraction_info\\Extracion_data_Assets.py:34\u001b[0m, in \u001b[0;36mMetaTraderDataExtractor.load_assets\u001b[1;34m(self)\u001b[0m\n\u001b[0;32m     33\u001b[0m \u001b[38;5;28;01mdef\u001b[39;00m \u001b[38;5;21mload_assets\u001b[39m(\u001b[38;5;28mself\u001b[39m):\n\u001b[1;32m---> 34\u001b[0m     \u001b[38;5;28mself\u001b[39m\u001b[38;5;241m.\u001b[39massets_df \u001b[38;5;241m=\u001b[39m pd\u001b[38;5;241m.\u001b[39mread_csv(\u001b[38;5;28mself\u001b[39m\u001b[38;5;241m.\u001b[39massets_csv_path)\n\u001b[0;32m     35\u001b[0m     \u001b[38;5;28mself\u001b[39m\u001b[38;5;241m.\u001b[39massets_df \u001b[38;5;241m=\u001b[39m \u001b[38;5;28mself\u001b[39m\u001b[38;5;241m.\u001b[39massets_df[\u001b[38;5;28mself\u001b[39m\u001b[38;5;241m.\u001b[39massets_df[\u001b[38;5;124m'\u001b[39m\u001b[38;5;124mIS_ACTIVE\u001b[39m\u001b[38;5;124m'\u001b[39m] \u001b[38;5;241m==\u001b[39m \u001b[38;5;124m'\u001b[39m\u001b[38;5;124mY\u001b[39m\u001b[38;5;124m'\u001b[39m]\n",
      "File \u001b[1;32mc:\\Users\\spinz\\anaconda3\\Lib\\site-packages\\pandas\\io\\parsers\\readers.py:1026\u001b[0m, in \u001b[0;36mread_csv\u001b[1;34m(filepath_or_buffer, sep, delimiter, header, names, index_col, usecols, dtype, engine, converters, true_values, false_values, skipinitialspace, skiprows, skipfooter, nrows, na_values, keep_default_na, na_filter, verbose, skip_blank_lines, parse_dates, infer_datetime_format, keep_date_col, date_parser, date_format, dayfirst, cache_dates, iterator, chunksize, compression, thousands, decimal, lineterminator, quotechar, quoting, doublequote, escapechar, comment, encoding, encoding_errors, dialect, on_bad_lines, delim_whitespace, low_memory, memory_map, float_precision, storage_options, dtype_backend)\u001b[0m\n\u001b[0;32m   1013\u001b[0m kwds_defaults \u001b[38;5;241m=\u001b[39m _refine_defaults_read(\n\u001b[0;32m   1014\u001b[0m     dialect,\n\u001b[0;32m   1015\u001b[0m     delimiter,\n\u001b[1;32m   (...)\u001b[0m\n\u001b[0;32m   1022\u001b[0m     dtype_backend\u001b[38;5;241m=\u001b[39mdtype_backend,\n\u001b[0;32m   1023\u001b[0m )\n\u001b[0;32m   1024\u001b[0m kwds\u001b[38;5;241m.\u001b[39mupdate(kwds_defaults)\n\u001b[1;32m-> 1026\u001b[0m \u001b[38;5;28;01mreturn\u001b[39;00m _read(filepath_or_buffer, kwds)\n",
      "File \u001b[1;32mc:\\Users\\spinz\\anaconda3\\Lib\\site-packages\\pandas\\io\\parsers\\readers.py:620\u001b[0m, in \u001b[0;36m_read\u001b[1;34m(filepath_or_buffer, kwds)\u001b[0m\n\u001b[0;32m    617\u001b[0m _validate_names(kwds\u001b[38;5;241m.\u001b[39mget(\u001b[38;5;124m\"\u001b[39m\u001b[38;5;124mnames\u001b[39m\u001b[38;5;124m\"\u001b[39m, \u001b[38;5;28;01mNone\u001b[39;00m))\n\u001b[0;32m    619\u001b[0m \u001b[38;5;66;03m# Create the parser.\u001b[39;00m\n\u001b[1;32m--> 620\u001b[0m parser \u001b[38;5;241m=\u001b[39m TextFileReader(filepath_or_buffer, \u001b[38;5;241m*\u001b[39m\u001b[38;5;241m*\u001b[39mkwds)\n\u001b[0;32m    622\u001b[0m \u001b[38;5;28;01mif\u001b[39;00m chunksize \u001b[38;5;129;01mor\u001b[39;00m iterator:\n\u001b[0;32m    623\u001b[0m     \u001b[38;5;28;01mreturn\u001b[39;00m parser\n",
      "File \u001b[1;32mc:\\Users\\spinz\\anaconda3\\Lib\\site-packages\\pandas\\io\\parsers\\readers.py:1620\u001b[0m, in \u001b[0;36mTextFileReader.__init__\u001b[1;34m(self, f, engine, **kwds)\u001b[0m\n\u001b[0;32m   1617\u001b[0m     \u001b[38;5;28mself\u001b[39m\u001b[38;5;241m.\u001b[39moptions[\u001b[38;5;124m\"\u001b[39m\u001b[38;5;124mhas_index_names\u001b[39m\u001b[38;5;124m\"\u001b[39m] \u001b[38;5;241m=\u001b[39m kwds[\u001b[38;5;124m\"\u001b[39m\u001b[38;5;124mhas_index_names\u001b[39m\u001b[38;5;124m\"\u001b[39m]\n\u001b[0;32m   1619\u001b[0m \u001b[38;5;28mself\u001b[39m\u001b[38;5;241m.\u001b[39mhandles: IOHandles \u001b[38;5;241m|\u001b[39m \u001b[38;5;28;01mNone\u001b[39;00m \u001b[38;5;241m=\u001b[39m \u001b[38;5;28;01mNone\u001b[39;00m\n\u001b[1;32m-> 1620\u001b[0m \u001b[38;5;28mself\u001b[39m\u001b[38;5;241m.\u001b[39m_engine \u001b[38;5;241m=\u001b[39m \u001b[38;5;28mself\u001b[39m\u001b[38;5;241m.\u001b[39m_make_engine(f, \u001b[38;5;28mself\u001b[39m\u001b[38;5;241m.\u001b[39mengine)\n",
      "File \u001b[1;32mc:\\Users\\spinz\\anaconda3\\Lib\\site-packages\\pandas\\io\\parsers\\readers.py:1880\u001b[0m, in \u001b[0;36mTextFileReader._make_engine\u001b[1;34m(self, f, engine)\u001b[0m\n\u001b[0;32m   1878\u001b[0m     \u001b[38;5;28;01mif\u001b[39;00m \u001b[38;5;124m\"\u001b[39m\u001b[38;5;124mb\u001b[39m\u001b[38;5;124m\"\u001b[39m \u001b[38;5;129;01mnot\u001b[39;00m \u001b[38;5;129;01min\u001b[39;00m mode:\n\u001b[0;32m   1879\u001b[0m         mode \u001b[38;5;241m+\u001b[39m\u001b[38;5;241m=\u001b[39m \u001b[38;5;124m\"\u001b[39m\u001b[38;5;124mb\u001b[39m\u001b[38;5;124m\"\u001b[39m\n\u001b[1;32m-> 1880\u001b[0m \u001b[38;5;28mself\u001b[39m\u001b[38;5;241m.\u001b[39mhandles \u001b[38;5;241m=\u001b[39m get_handle(\n\u001b[0;32m   1881\u001b[0m     f,\n\u001b[0;32m   1882\u001b[0m     mode,\n\u001b[0;32m   1883\u001b[0m     encoding\u001b[38;5;241m=\u001b[39m\u001b[38;5;28mself\u001b[39m\u001b[38;5;241m.\u001b[39moptions\u001b[38;5;241m.\u001b[39mget(\u001b[38;5;124m\"\u001b[39m\u001b[38;5;124mencoding\u001b[39m\u001b[38;5;124m\"\u001b[39m, \u001b[38;5;28;01mNone\u001b[39;00m),\n\u001b[0;32m   1884\u001b[0m     compression\u001b[38;5;241m=\u001b[39m\u001b[38;5;28mself\u001b[39m\u001b[38;5;241m.\u001b[39moptions\u001b[38;5;241m.\u001b[39mget(\u001b[38;5;124m\"\u001b[39m\u001b[38;5;124mcompression\u001b[39m\u001b[38;5;124m\"\u001b[39m, \u001b[38;5;28;01mNone\u001b[39;00m),\n\u001b[0;32m   1885\u001b[0m     memory_map\u001b[38;5;241m=\u001b[39m\u001b[38;5;28mself\u001b[39m\u001b[38;5;241m.\u001b[39moptions\u001b[38;5;241m.\u001b[39mget(\u001b[38;5;124m\"\u001b[39m\u001b[38;5;124mmemory_map\u001b[39m\u001b[38;5;124m\"\u001b[39m, \u001b[38;5;28;01mFalse\u001b[39;00m),\n\u001b[0;32m   1886\u001b[0m     is_text\u001b[38;5;241m=\u001b[39mis_text,\n\u001b[0;32m   1887\u001b[0m     errors\u001b[38;5;241m=\u001b[39m\u001b[38;5;28mself\u001b[39m\u001b[38;5;241m.\u001b[39moptions\u001b[38;5;241m.\u001b[39mget(\u001b[38;5;124m\"\u001b[39m\u001b[38;5;124mencoding_errors\u001b[39m\u001b[38;5;124m\"\u001b[39m, \u001b[38;5;124m\"\u001b[39m\u001b[38;5;124mstrict\u001b[39m\u001b[38;5;124m\"\u001b[39m),\n\u001b[0;32m   1888\u001b[0m     storage_options\u001b[38;5;241m=\u001b[39m\u001b[38;5;28mself\u001b[39m\u001b[38;5;241m.\u001b[39moptions\u001b[38;5;241m.\u001b[39mget(\u001b[38;5;124m\"\u001b[39m\u001b[38;5;124mstorage_options\u001b[39m\u001b[38;5;124m\"\u001b[39m, \u001b[38;5;28;01mNone\u001b[39;00m),\n\u001b[0;32m   1889\u001b[0m )\n\u001b[0;32m   1890\u001b[0m \u001b[38;5;28;01massert\u001b[39;00m \u001b[38;5;28mself\u001b[39m\u001b[38;5;241m.\u001b[39mhandles \u001b[38;5;129;01mis\u001b[39;00m \u001b[38;5;129;01mnot\u001b[39;00m \u001b[38;5;28;01mNone\u001b[39;00m\n\u001b[0;32m   1891\u001b[0m f \u001b[38;5;241m=\u001b[39m \u001b[38;5;28mself\u001b[39m\u001b[38;5;241m.\u001b[39mhandles\u001b[38;5;241m.\u001b[39mhandle\n",
      "File \u001b[1;32mc:\\Users\\spinz\\anaconda3\\Lib\\site-packages\\pandas\\io\\common.py:873\u001b[0m, in \u001b[0;36mget_handle\u001b[1;34m(path_or_buf, mode, encoding, compression, memory_map, is_text, errors, storage_options)\u001b[0m\n\u001b[0;32m    868\u001b[0m \u001b[38;5;28;01melif\u001b[39;00m \u001b[38;5;28misinstance\u001b[39m(handle, \u001b[38;5;28mstr\u001b[39m):\n\u001b[0;32m    869\u001b[0m     \u001b[38;5;66;03m# Check whether the filename is to be opened in binary mode.\u001b[39;00m\n\u001b[0;32m    870\u001b[0m     \u001b[38;5;66;03m# Binary mode does not support 'encoding' and 'newline'.\u001b[39;00m\n\u001b[0;32m    871\u001b[0m     \u001b[38;5;28;01mif\u001b[39;00m ioargs\u001b[38;5;241m.\u001b[39mencoding \u001b[38;5;129;01mand\u001b[39;00m \u001b[38;5;124m\"\u001b[39m\u001b[38;5;124mb\u001b[39m\u001b[38;5;124m\"\u001b[39m \u001b[38;5;129;01mnot\u001b[39;00m \u001b[38;5;129;01min\u001b[39;00m ioargs\u001b[38;5;241m.\u001b[39mmode:\n\u001b[0;32m    872\u001b[0m         \u001b[38;5;66;03m# Encoding\u001b[39;00m\n\u001b[1;32m--> 873\u001b[0m         handle \u001b[38;5;241m=\u001b[39m \u001b[38;5;28mopen\u001b[39m(\n\u001b[0;32m    874\u001b[0m             handle,\n\u001b[0;32m    875\u001b[0m             ioargs\u001b[38;5;241m.\u001b[39mmode,\n\u001b[0;32m    876\u001b[0m             encoding\u001b[38;5;241m=\u001b[39mioargs\u001b[38;5;241m.\u001b[39mencoding,\n\u001b[0;32m    877\u001b[0m             errors\u001b[38;5;241m=\u001b[39merrors,\n\u001b[0;32m    878\u001b[0m             newline\u001b[38;5;241m=\u001b[39m\u001b[38;5;124m\"\u001b[39m\u001b[38;5;124m\"\u001b[39m,\n\u001b[0;32m    879\u001b[0m         )\n\u001b[0;32m    880\u001b[0m     \u001b[38;5;28;01melse\u001b[39;00m:\n\u001b[0;32m    881\u001b[0m         \u001b[38;5;66;03m# Binary mode\u001b[39;00m\n\u001b[0;32m    882\u001b[0m         handle \u001b[38;5;241m=\u001b[39m \u001b[38;5;28mopen\u001b[39m(handle, ioargs\u001b[38;5;241m.\u001b[39mmode)\n",
      "\u001b[1;31mFileNotFoundError\u001b[0m: [Errno 2] No such file or directory: 'C:\\\\Users\\\\spinz\\\\Documents\\\\Portafolio Oficial\\\\HERMESDB\\\\data\\\\tables_data\\\\data_table\\\\ASSETS_PART_2.csv'"
     ]
    }
   ],
   "source": [
    "from modules.Creation_tables.Market import MarketData # Importar la clase MarketData\n",
    "from modules.Creation_tables.Market_metadata import MarketMetadataManager # Importar la clase MarketMetadataManager\n",
    "from modules.Extraction_info.Extraction_info_Assets import MT5AssetExtractor # Importar la clase MT5AssetExtractor\n",
    "from modules.Creation_tables.Assets import AssetProcessor # Importar la clase AssetProcessor\n",
    "from modules.Creation_tables.Timeframe import TimeFrameProcessor # Importar la clase TimeFrameProcessor\n",
    "# modules.Extraction_info.Extracion_data_Assets import MetaTraderDataExtractor # Importar la clase MetaTraderDataExtractor\n",
    "#Primero formamos la tabla Market_data\n",
    "# Aquí se define la carpeta donde se guardará el archivo CSV\n",
    "output_folder = \"C:\\\\Users\\\\spinz\\\\Documents\\\\Portafolio Oficial\\\\HERMESDB\\\\data\\\\tables_data\"  \n",
    "# Crear una instancia de la clase MarketData\n",
    "market_data_instance = MarketData(output_folder)\n",
    "# Exportar el DataFrame a un archivo CSV\n",
    "market_data_instance.export_to_csv()\n",
    "\n",
    "#Exportando la tabla Market_metadata\n",
    "# Create an instance of the manager\n",
    "manager = MarketMetadataManager()\n",
    "# Export to different formats\n",
    "manager.export_metadata('C:\\\\Users\\\\spinz\\\\Documents\\\\Portafolio Oficial\\\\HERMESDB\\\\data\\\\tables_data\\\\MARKET_METADATA.csv', 'csv')\n",
    "\n",
    "#Creacion de la tabla Assets\n",
    "#Extraccion de datos para la creacion de la tabla Assets\n",
    "output_path = \"C:\\\\Users\\\\spinz\\\\Documents\\\\Portafolio Oficial\\\\HERMESDB\\\\data\\\\tables_data\\\\data_table\\\\ASSETS.csv\"\n",
    "extractor = MT5AssetExtractor(output_path)\n",
    "extractor.extract_assets()\n",
    "# Rutas de entrada y salida\n",
    "input_csv_path = \"C:\\\\Users\\\\spinz\\\\Documents\\\\Portafolio Oficial\\\\HERMESDB\\\\data\\\\tables_data\\\\data_table\\\\ASSETS.csv\"\n",
    "output_csv_path = \"C:\\\\Users\\\\spinz\\\\Documents\\\\Portafolio Oficial\\\\HERMESDB\\\\data\\\\tables_data\\\\ASSETS.csv\"\n",
    "\n",
    "# Crear una instancia de la clase y procesar los datos\n",
    "processor = AssetProcessor(input_csv_path, output_csv_path)\n",
    "processor.process_assets()\n",
    "\n",
    "#Creacion de la tabla TIMEFRAME\n",
    "\n",
    "# Ruta de salida\n",
    "output_csv_path = \"C:\\\\Users\\\\spinz\\\\Documents\\\\Portafolio Oficial\\\\HERMESDB\\\\data\\\\tables_data\\\\TIMEFRAME.csv\"\n",
    "\n",
    "# Crear una instancia de la clase y guardar el DataFrame\n",
    "processor = TimeFrameProcessor(output_csv_path)\n",
    "processor.save_to_csv()\n",
    "\n",
    "#Creacion de la tabla Market_data\n",
    "#extractor = MetaTraderDataExtractor(login=3000074280, password='#%@Q$20vk5o', server='demoUK-mt5.darwinex.com', assets_csv_path='C:\\\\Users\\\\spinz\\\\Documents\\\\Portafolio Oficial\\\\HERMESDB\\\\data\\\\tables_data\\\\data_table\\\\ASSETS.csv', output_folder='C:\\\\Users\\\\spinz\\\\Documents\\\\Portafolio Oficial\\\\HERMESDB\\\\data\\\\tables_data\\\\data_table\\\\data_market')\n",
    "#extractor.download_all_data()\n",
    "\n",
    "#Unificacion de los dato y creaciond definitiva del la tabla Market"
   ]
  },
  {
   "cell_type": "code",
   "execution_count": 3,
   "metadata": {},
   "outputs": [
    {
     "name": "stdout",
     "output_type": "stream",
     "text": [
      "                       col_1  col_2  col_3  col_4  col_5  col_6  col_7  col_8  \\\n",
      "0  2010-01-11 16:00:00+00:00  22.16  22.20  22.00  22.02    188      0      0   \n",
      "1  2010-01-11 17:00:00+00:00  22.00  22.17  21.95  22.17    186      0      0   \n",
      "2  2010-01-11 18:00:00+00:00  22.17  22.17  22.07  22.09    181      0      0   \n",
      "3  2010-01-11 19:00:00+00:00  22.10  22.10  21.98  21.99    156      0      0   \n",
      "4  2010-01-11 20:00:00+00:00  21.99  22.00  21.93  21.94    127      0      0   \n",
      "\n",
      "  col_9 col_10  \n",
      "0    1H      A  \n",
      "1    1H      A  \n",
      "2    1H      A  \n",
      "3    1H      A  \n",
      "4    1H      A  \n",
      "Index(['col_1', 'col_2', 'col_3', 'col_4', 'col_5', 'col_6', 'col_7', 'col_8',\n",
      "       'col_9', 'col_10'],\n",
      "      dtype='object')\n",
      "              col_2         col_3         col_4         col_5         col_6  \\\n",
      "count  2.361627e+07  2.361627e+07  2.361627e+07  2.361627e+07  2.361627e+07   \n",
      "mean   1.791889e+02  1.797683e+02  1.786242e+02  1.792161e+02  9.708620e+05   \n",
      "std    1.024285e+03  1.026186e+03  1.022327e+03  1.024338e+03  1.353819e+08   \n",
      "min    2.000000e-02  2.000000e-02  0.000000e+00  2.000000e-02  0.000000e+00   \n",
      "25%    3.182000e+01  3.205000e+01  3.159000e+01  3.183000e+01  4.640000e+02   \n",
      "50%    6.339000e+01  6.368000e+01  6.311000e+01  6.340000e+01  3.411000e+03   \n",
      "75%    1.753490e+02  1.754230e+02  1.752640e+02  1.753510e+02  6.446850e+05   \n",
      "max    2.052360e+04  2.054860e+04  2.049290e+04  2.052360e+04  4.136659e+11   \n",
      "\n",
      "              col_7         col_8  \n",
      "count  2.361627e+07  2.361627e+07  \n",
      "mean   3.795706e+01  8.946542e+10  \n",
      "std    5.693870e+02  4.592264e+14  \n",
      "min    0.000000e+00  0.000000e+00  \n",
      "25%    0.000000e+00  0.000000e+00  \n",
      "50%    0.000000e+00  0.000000e+00  \n",
      "75%    1.270000e+02  0.000000e+00  \n",
      "max    4.760490e+05  1.150250e+18  \n"
     ]
    },
    {
     "name": "stdout",
     "output_type": "stream",
     "text": [
      "                       col_1  col_2  col_3  col_4  col_5  col_6  col_7  col_8  \\\n",
      "0  2010-01-11 16:00:00+00:00  22.16  22.20  22.00  22.02    188      0      0   \n",
      "1  2010-01-11 17:00:00+00:00  22.00  22.17  21.95  22.17    186      0      0   \n",
      "2  2010-01-11 18:00:00+00:00  22.17  22.17  22.07  22.09    181      0      0   \n",
      "3  2010-01-11 19:00:00+00:00  22.10  22.10  21.98  21.99    156      0      0   \n",
      "4  2010-01-11 20:00:00+00:00  21.99  22.00  21.93  21.94    127      0      0   \n",
      "\n",
      "  col_9 col_10  \n",
      "0    1H      A  \n",
      "1    1H      A  \n",
      "2    1H      A  \n",
      "3    1H      A  \n",
      "4    1H      A  \n",
      "Index(['col_1', 'col_2', 'col_3', 'col_4', 'col_5', 'col_6', 'col_7', 'col_8',\n",
      "       'col_9', 'col_10'],\n",
      "      dtype='object')\n",
      "              col_2         col_3         col_4         col_5         col_6  \\\n",
      "count  2.361627e+07  2.361627e+07  2.361627e+07  2.361627e+07  2.361627e+07   \n",
      "mean   1.791889e+02  1.797683e+02  1.786242e+02  1.792160e+02  9.708620e+05   \n",
      "std    1.024285e+03  1.026186e+03  1.022327e+03  1.024338e+03  1.353819e+08   \n",
      "min    2.000000e-02  2.000000e-02  0.000000e+00  2.000000e-02  0.000000e+00   \n",
      "25%    3.182000e+01  3.205000e+01  3.159000e+01  3.183000e+01  4.640000e+02   \n",
      "50%    6.339000e+01  6.368000e+01  6.311000e+01  6.340000e+01  3.411000e+03   \n",
      "75%    1.753490e+02  1.754230e+02  1.752640e+02  1.753510e+02  6.446850e+05   \n",
      "max    2.052360e+04  2.054860e+04  2.049290e+04  2.052360e+04  4.136659e+11   \n",
      "\n",
      "              col_7         col_8  \n",
      "count  2.361627e+07  2.361627e+07  \n",
      "mean   3.795705e+01  8.946541e+10  \n",
      "std    5.693870e+02  4.592264e+14  \n",
      "min    0.000000e+00  0.000000e+00  \n",
      "25%    0.000000e+00  0.000000e+00  \n",
      "50%    0.000000e+00  0.000000e+00  \n",
      "75%    1.270000e+02  0.000000e+00  \n",
      "max    4.760490e+05  1.150250e+18  \n"
     ]
    }
   ],
   "source": [
    "import dask.dataframe as dd\n",
    "\n",
    "file_path = \"C:\\\\Users\\\\spinz\\\\Documents\\\\Portafolio Oficial\\\\HERMESDB\\\\data\\\\tables_data\\\\MARKET_DATA.csv\"\n",
    "\n",
    "# Cargar archivo como un dataframe de Dask\n",
    "df = dd.read_csv(file_path)\n",
    "\n",
    "# Previsualizar las primeras filas\n",
    "print(df.head())\n",
    "\n",
    "# Inspeccionar las columnas\n",
    "print(df.columns)\n",
    "\n",
    "# Obtener estadísticas rápidas\n",
    "print(df.describe().compute())\n"
   ]
  },
  {
   "cell_type": "code",
   "execution_count": 1,
   "metadata": {},
   "outputs": [
    {
     "ename": "NameError",
     "evalue": "name 'HXL' is not defined",
     "output_type": "error",
     "traceback": [
      "\u001b[1;31m---------------------------------------------------------------------------\u001b[0m",
      "\u001b[1;31mNameError\u001b[0m                                 Traceback (most recent call last)",
      "Cell \u001b[1;32mIn[1], line 1\u001b[0m\n\u001b[1;32m----> 1\u001b[0m HXL,IBKR,pwr,qtwo,RCL,V,vz,wmt,xom\n",
      "\u001b[1;31mNameError\u001b[0m: name 'HXL' is not defined"
     ]
    }
   ],
   "source": [
    "HXL,IBKR,pwr,qtwo,RCL,V,vz,wmt,xom \n",
    "[DATA_ID,ASSETS_ID,TIMEFRAME_ID,SOURCE_ID,PRICE_TYPE,DATE_RECORDED,OPEN,HIGH,LOW,CLOSE,VOLUME,CREATE_AT,UPDATE_AT]"
   ]
  },
  {
   "cell_type": "markdown",
   "metadata": {},
   "source": [
    "Creado las tablas que son actualizadas cada noche"
   ]
  }
 ],
 "metadata": {
  "kernelspec": {
   "display_name": "base",
   "language": "python",
   "name": "python3"
  },
  "language_info": {
   "codemirror_mode": {
    "name": "ipython",
    "version": 3
   },
   "file_extension": ".py",
   "mimetype": "text/x-python",
   "name": "python",
   "nbconvert_exporter": "python",
   "pygments_lexer": "ipython3",
   "version": "3.12.7"
  }
 },
 "nbformat": 4,
 "nbformat_minor": 2
}
